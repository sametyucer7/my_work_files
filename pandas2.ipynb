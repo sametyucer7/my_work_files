{
 "cells": [
  {
   "cell_type": "code",
   "execution_count": 3,
   "id": "78d4d7f4-aaaf-4496-adb9-05fc17a50abe",
   "metadata": {},
   "outputs": [],
   "source": [
    "import pandas as pd"
   ]
  },
  {
   "cell_type": "code",
   "execution_count": 5,
   "id": "d4f960d9-03c9-4605-af99-a75ab88a6bb7",
   "metadata": {},
   "outputs": [],
   "source": [
    "df = pd.read_csv(r\"C:\\Users\\user\\Desktop\\Salary_Data.csv\")\n",
    "df\n",
    "DOSYALARIN ADRESİNİ KOPYALAYIP OKUTMAK İÇİN PARANTEZİN İÇİNDE İLK HARF \" r \"  YAZIP TIRNAKLAR İLE DEVAM EDİLMEDİLİR"
   ]
  },
  {
   "cell_type": "code",
   "execution_count": 15,
   "id": "7903a63d-9d54-468c-966c-d04e30ce6b04",
   "metadata": {},
   "outputs": [],
   "source": [
    "df = pd.read_csv(r\"C:\\Users\\user\\Desktop\\Salary_Data.csv\",header=None,names=[\"YAŞ\",\"CİNSİYET\",\"EĞİTİM LVL\",\"MESLEK\",\"TECRÜBE\",\"MAAŞ\"])\n",
    "df\n",
    "pd.read_csv(r\"C:\\Users\\user\\Desktop\\Salary_Data.csv\",header=None,names=[\"YAŞ\",\"CİNSİYET\",\"EĞİTİM LVL\",\"MESLEK\",\"TECRÜBE\",\"MAAŞ\"] GÖRÜLDÜĞÜ ÜZERE BAŞLIKLAR DEĞİŞTİ"
   ]
  },
  {
   "cell_type": "code",
   "execution_count": 28,
   "id": "fa4b3ae2-1824-41bc-b057-39c2e0a3d981",
   "metadata": {},
   "outputs": [],
   "source": [
    "df = pd.read_csv(r\"C:\\Users\\user\\Desktop\\Salary_Data.csv\").\n",
    "\n",
    "df=pd.read_table(r\"C:\\Users\\user\\Desktop\\excel.txt\").\n",
    "df\n",
    "READ TABLE BİLGİSAYARDAKİ .TXT DOSYALARINI DÜZGÜN OKUMAYA YARAR.\n",
    "\n",
    "df=pd.read_csv(r\"C:\\Users\\user\\Desktop\\excel.txt\").\n",
    "TXT DOSYALARINI CSV OKURSA SORUN OLUR ÇÜNKÜ KOD OLARAK ARKADA CSV LERİ VİRGÜLLER İLE AYIRYOR TXT DE / SLASHLAR İLE AYIRIYOR O YÜZDEN KARMAN ÇORMAN BİR TABLO ÇIKAR ORTAYA.\n",
    "\n",
    "DÜZELTMEK İÇİNDE BÖYLE BİR ŞEY KULLANILIR.\n",
    "df = pd.read_csv(r\"C:\\Users\\user\\Desktop\\excel.txt\", sep=\"/\")."
   ]
  },
  {
   "cell_type": "code",
   "execution_count": 41,
   "id": "d122847c-ee5d-4ddd-b0d4-3ff7e23bcb92",
   "metadata": {},
   "outputs": [],
   "source": [
    "df = pd.read_json(r\"C:\\Users\\user\\Desktop\\iris.json\")\n",
    "df\n",
    "JSON TÜRÜ DOSYALARI OKUR."
   ]
  },
  {
   "cell_type": "code",
   "execution_count": 43,
   "id": "b5d50acc-80b1-4d99-b34f-26236b3f8eb7",
   "metadata": {},
   "outputs": [],
   "source": [
    "df = pd.read_excel(r\"EXCEL_OLMADIĞI_İÇİN_DOSYA_KOYAMADIM\",sheet_name=\"Sheet1\")\n",
    "\n",
    "EXCEL DOSYASI OKUNMAYA ÇALIŞILIRKEN DOSYADA 2 FARKLI SEKME VARSA İLK SEKMEYİ ALIR OKUR\n",
    "SHEET NAME DE SEKME ADI"
   ]
  },
  {
   "cell_type": "code",
   "execution_count": 56,
   "id": "006f089a-ce3b-418c-931b-5c9cfdcc1e45",
   "metadata": {},
   "outputs": [],
   "source": [
    "df2 = df = pd.read_json(r\"C:\\Users\\user\\Desktop\\iris.json\")\n",
    "#df\n"
   ]
  },
  {
   "cell_type": "code",
   "execution_count": 53,
   "id": "6e874f58-85f7-4e6e-a4c4-08a0bdc0b8ac",
   "metadata": {},
   "outputs": [],
   "source": [
    "pd.set_option(\"display.max.rows\",151) TÜM TABLODAKİ SÜTUNLARI BAŞTAN AŞŞAĞIYA GÖSTERİR ASLINDA TÜM SATIRLARI GÖSTERİR"
   ]
  },
  {
   "cell_type": "code",
   "execution_count": null,
   "id": "20f82276-a3cd-4e4b-ba4f-be0a9f0814fd",
   "metadata": {},
   "outputs": [],
   "source": [
    "pd.set_option(\"display.max.columns\",COLUMNS+1) TÜM SÜTUNLARI GÖSTERİR"
   ]
  },
  {
   "cell_type": "code",
   "execution_count": 64,
   "id": "100cd75b-c0a0-4785-b732-0dbf86a7bb9b",
   "metadata": {},
   "outputs": [],
   "source": [
    "df2.info() # DATA HAKKINDA BİLGİ VERİR KAÇ KB OLDUĞU KAÇ İNDEX OLDUĞU KAÇ SÜTUN OLDUĞU SÜTUNLARIN İSİMLERİ VS KAÇ TANE SATIR OLDUĞUNUDA VERİR NON NULL DA BOŞ YADA NONE SATIR OLMADIĞINI VERİR\n",
    "\n",
    "df2.shape #DÜZ BİR ŞEKİLDE ROW VE COLUMNS U VERİR"
   ]
  },
  {
   "cell_type": "code",
   "execution_count": 62,
   "id": "8a9a00e7-e0e9-4225-9a14-957fa2eeae23",
   "metadata": {},
   "outputs": [],
   "source": [
    "df2.head() # İLK 5 SATIRI VERİR PARANTEZ İÇİNE BİŞEYLER YAZIP DAHA FAZLA ALINABİLİR"
   ]
  },
  {
   "cell_type": "code",
   "execution_count": null,
   "id": "9d2c8319-cfd3-4b3c-9f5b-77c985df452f",
   "metadata": {},
   "outputs": [],
   "source": [
    "df2.tail() # SON 5 SATIRI VERİR"
   ]
  },
  {
   "cell_type": "code",
   "execution_count": 1,
   "id": "d261382a-1498-412d-8ec3-896acf1ebf3d",
   "metadata": {},
   "outputs": [],
   "source": [
    "df2.loc[1] #SPESİFİK BİR SATIR HAKKINDA BİLGİ ALMAYA YARAR"
   ]
  },
  {
   "cell_type": "code",
   "execution_count": 24,
   "id": "d15f0b67-f9dc-482a-a6a8-54c2e528b50b",
   "metadata": {},
   "outputs": [],
   "source": [
    "df = pd.read_csv(r\"C:\\Users\\user\\Desktop\\Salary_Data.csv\")\n",
    "df"
   ]
  },
  {
   "cell_type": "code",
   "execution_count": 13,
   "id": "87f36088-d48e-4859-9862-bd700f97e633",
   "metadata": {},
   "outputs": [],
   "source": [
    "df[df[\"Age\"] < 22] #22 YAŞINDAN KÜÇÜKLERİ BULMAYA YARAR"
   ]
  },
  {
   "cell_type": "code",
   "execution_count": 18,
   "id": "37bcca41-189a-4619-a38c-352ba7329642",
   "metadata": {
    "scrolled": true
   },
   "outputs": [],
   "source": [
    "spesific_jobs = [\"Director\",\"Financial Manager\"]\n",
    "df[df[\"Job Title\"].isin(spesific_jobs)] # 135 TANE DİRECTOR VE FİNANCİAL MANAGER VARMIŞ BU SAYEDE BUNU GÖRDÜK İSİN SAYESİNDE"
   ]
  },
  {
   "cell_type": "code",
   "execution_count": 26,
   "id": "bbbcd388-3022-4ae8-a0a7-a20b0a3789d5",
   "metadata": {},
   "outputs": [],
   "source": [
    "df[df[\"Job Title\"].str.contains(\"Sales\",na=False)] #  NA=FALSE KONULMALI ÇÜNKÜ BOŞLUKLAR VAR VE GELİNCE HATA VERİYOR YANİ SÜTUNU ARARKEN BOŞ HÜCREYE GELİRSE YANLIŞ OLARAK DEĞERLENDİRİR VE EŞLEŞME VERMEZ\n",
    "                                                   # NA=TRUE İSE BOŞ HÜCREYİ EŞLEŞMİŞ GİBİ VERİR"
   ]
  },
  {
   "cell_type": "code",
   "execution_count": 31,
   "id": "1305fbc6-9844-4c95-a7d5-ca03caaf9af7",
   "metadata": {},
   "outputs": [],
   "source": [
    "df = pd.read_csv(r\"C:\\Users\\user\\Desktop\\Salary_Data.csv\")\n",
    "df2=df.set_index(\"Job Title\")\n",
    "df2 ##### BU SAYEDE JOB TİTLE LAR İNDEXLERİN YERİNE GEÇTİ"
   ]
  },
  {
   "cell_type": "code",
   "execution_count": 35,
   "id": "2c44c23a-6b02-46d8-b5dc-ef10f54768c7",
   "metadata": {},
   "outputs": [],
   "source": [
    "df.filter(items=[\"Salary\",\"Years of Experience\",\"Job Title\"]) #SÜTUN BAŞLIKLARINI FİLTRELEMEYE YARADI İÇİNE GİRDİKLERİMİZİ TUTTU"
   ]
  },
  {
   "cell_type": "code",
   "execution_count": 53,
   "id": "987d7b9d-2ba7-4283-82ee-9126689d305a",
   "metadata": {},
   "outputs": [],
   "source": [
    "df.filter(items=[\"Salary\",\"Years of Experience\",\"Job Title\"],axis=0) # axis=0 SÜTUNLARI İNCELER VEYA İŞLEM YAPTIRIR "
   ]
  },
  {
   "cell_type": "code",
   "execution_count": 54,
   "id": "7d531b9e-f805-4629-bff5-7f5181c3d630",
   "metadata": {},
   "outputs": [],
   "source": [
    "df = pd.read_csv(r\"C:\\Users\\user\\Desktop\\Salary_Data.csv\")\n",
    "df2=df.set_index(\"Job Title\")\n",
    "df2.filter(like= \"Manager\",axis=0)"
   ]
  },
  {
   "cell_type": "code",
   "execution_count": 1,
   "id": "2d7e5e38-2a59-4e1c-a3a3-e6f95432abf6",
   "metadata": {},
   "outputs": [],
   "source": [
    "df[df[\"Age\"] < 23].sort_values(by=[\"Job Title\",\"Age\"],ascending=[True,False]) # 23 DEN KÜÇÜKLERİ ALIP ÖNCE İŞLERİNE GÖRE  ALFABETİK SIRA (ÇÜNKÜ ASCENDİNG TRUE YAPTI) SONRA YAŞA GÖRE  BÜYÜKTEN KÜÇÜĞE DOĞRU  SIRALADI  ÇÜNKÜ FALSE"
   ]
  },
  {
   "cell_type": "code",
   "execution_count": 10,
   "id": "7c910d77-93b6-491c-b172-f56f20896788",
   "metadata": {},
   "outputs": [],
   "source": [
    "df = pd.read_csv(r\"C:\\Users\\user\\Desktop\\Salary_Data.csv\",index_col=\"Job Title\")\n",
    "#SOLDA OLAN 0 1 2 3 DİYE GİDEN İNDEX KOLUNU YERİNE JON TİTLE LARI KOYAR\n",
    "#GERİ ALMAK İÇİN\n",
    "df.reset_index(inplace=True) \n",
    "df"
   ]
  },
  {
   "cell_type": "code",
   "execution_count": 30,
   "id": "8119df10-bc97-4885-b339-a8b8850d7d21",
   "metadata": {},
   "outputs": [],
   "source": [
    "df = pd.read_csv(r\"C:\\Users\\user\\Desktop\\Salary_Data.csv\")\n",
    "df.set_index(\"Job Title\")\n",
    "df\n",
    "#İNDEXİ DEĞİŞTİRMENİN BİR YOLU DAHA AMA DEZAVANTAJI BU İNDEX DEĞİŞİMİNİ DF KAYDETMİYOR BU YÜZDEN \n",
    "#BU KOD İLE KAYDEDİLMELİ\n",
    "df.set_index(\"Job Title\",inplace=True)\n",
    "df\n"
   ]
  },
  {
   "cell_type": "code",
   "execution_count": 29,
   "id": "46c60ba9-e0b2-41ab-84e8-bf40fd76be85",
   "metadata": {},
   "outputs": [],
   "source": [
    "df.loc[\"Software Engineer\"] # Software Engineer DEN BİR TANE OLSA SPESİFİK BİLGİ VERİCEKTİ FAZLA OLDUĞUNU İÇİN OLMADI"
   ]
  },
  {
   "cell_type": "code",
   "execution_count": 31,
   "id": "cdcec622-7737-4aca-b5fb-feba320267f5",
   "metadata": {},
   "outputs": [],
   "source": [
    "df.iloc[1] "
   ]
  },
  {
   "cell_type": "code",
   "execution_count": 40,
   "id": "063085c2-4558-4b62-9359-9855df90df9f",
   "metadata": {},
   "outputs": [],
   "source": [
    "df.reset_index(inplace=True)"
   ]
  },
  {
   "cell_type": "code",
   "execution_count": 71,
   "id": "2f6e6da5-c8b2-40c5-9ba7-5f35ea749038",
   "metadata": {},
   "outputs": [],
   "source": [
    "df.set_index([\"Job Title\",\"Years of Experience\"], inplace=True)\n"
   ]
  },
  {
   "cell_type": "code",
   "execution_count": 73,
   "id": "96a2c7ed-9f8c-4432-9988-eef4e2ff935b",
   "metadata": {},
   "outputs": [],
   "source": [
    "#df.sort_index(ascending=(True,False))\n",
    "#pd.set_option(\"display.max.rows\",6705) #TÜM TABLOYU VERMEYE YARAR\n",
    "#df"
   ]
  },
  {
   "cell_type": "code",
   "execution_count": 4,
   "id": "1bdaa61d-aa45-411e-9b18-6ef426f38794",
   "metadata": {},
   "outputs": [],
   "source": [
    "df = pd.read_csv(r\"C:\\Users\\user\\Desktop\\Salary_Data.csv\")\n"
   ]
  },
  {
   "cell_type": "code",
   "execution_count": 4,
   "id": "290069b1-d2cc-4a85-b878-927d99cae1b7",
   "metadata": {},
   "outputs": [],
   "source": [
    "df5= pd.read_csv(r\"C:\\Users\\user\\Desktop\\spotify_history.csv\")\n",
    "#df5\n",
    "df5.set_index(\"artist_name\",inplace=True)\n",
    "#df5"
   ]
  },
  {
   "cell_type": "code",
   "execution_count": 1,
   "id": "dc79299f-2488-4a07-8241-42ba363bb221",
   "metadata": {},
   "outputs": [],
   "source": [
    "#df5.groupby(\"reason_start\").count()\n"
   ]
  },
  {
   "cell_type": "code",
   "execution_count": null,
   "id": "4175a8b3-b391-4b9c-9077-db6d2938779b",
   "metadata": {},
   "outputs": [],
   "source": []
  }
 ],
 "metadata": {
  "kernelspec": {
   "display_name": "Python [conda env:base] *",
   "language": "python",
   "name": "conda-base-py"
  },
  "language_info": {
   "codemirror_mode": {
    "name": "ipython",
    "version": 3
   },
   "file_extension": ".py",
   "mimetype": "text/x-python",
   "name": "python",
   "nbconvert_exporter": "python",
   "pygments_lexer": "ipython3",
   "version": "3.13.5"
  }
 },
 "nbformat": 4,
 "nbformat_minor": 5
}
